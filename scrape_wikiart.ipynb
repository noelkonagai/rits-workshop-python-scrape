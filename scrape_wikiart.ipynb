{
 "cells": [
  {
   "cell_type": "markdown",
   "metadata": {},
   "source": [
    "# RITS Workshop: Data Scraping with Python\n",
    "\n",
    "In this Jupyter notebook, you will see the code with explanation that will enable you to scrape panting images as wel as the data associated with these paintings.\n",
    "\n",
    "\n",
    "- Instructor: Noel Konagai\n",
    "- Email: noel.konagai@nyu.edu\n",
    "\n",
    "Feel free to contact me for individual follow-up consultations"
   ]
  },
  {
   "cell_type": "markdown",
   "metadata": {},
   "source": [
    "We start with importing the necessary libraries."
   ]
  },
  {
   "cell_type": "code",
   "execution_count": 1,
   "metadata": {
    "collapsed": true
   },
   "outputs": [],
   "source": [
    "import requests, json, math, urllib.request\n",
    "import pandas as pd"
   ]
  },
  {
   "cell_type": "markdown",
   "metadata": {},
   "source": [
    "## Getting the page length\n",
    "\n",
    "Our page has a \"load more\" button. Everytime this button is clicked, a new request is sent by our browser to the server, which returns a JSON file. The number of pages can be scraped by sending a request with the first page, and retrieving the 'PageSize' in the response JSON."
   ]
  },
  {
   "cell_type": "code",
   "execution_count": 2,
   "metadata": {
    "collapsed": true
   },
   "outputs": [],
   "source": [
    "base_url = 'https://www.wikiart.org/en/paintings-by-style/'\n",
    "style = 'pop-art'\n",
    "query = '?json=2&page='\n",
    "\n",
    "def page_length():\n",
    "    r = requests.get(base_url + style + query + '1')\n",
    "    json_data = json.loads(r.text)\n",
    "    page_size = json_data['PageSize']\n",
    "    num_paintings = json_data['AllPaintingsCount']\n",
    "    num_pages = math.ceil(num_paintings/page_size)\n",
    "    \n",
    "    return num_pages, num_paintings, page_size\n",
    "\n",
    "num_pages, num_paintings, _ = page_length()"
   ]
  },
  {
   "cell_type": "markdown",
   "metadata": {},
   "source": [
    "## Getting all the necessary data\n",
    "\n",
    "Write a function that will get the image URL, name of the artist, title, and the year from the given JSON file:\n",
    "\n",
    "- First, create empty lists for each of these, outside of your function. As we have lots of JSON files to open, we will keep appending new elements to each of these lists.\n",
    "- the general format to navigate to sub-branches of JSON files is by quoting in paranthesis the key\n",
    "- example: my_json_data['first_key']\n",
    "- you can find the appropriate keys if you view the JSON file in your browser\n",
    "- append each of the data to the apporpriate list"
   ]
  },
  {
   "cell_type": "code",
   "execution_count": 3,
   "metadata": {
    "collapsed": true
   },
   "outputs": [],
   "source": [
    "image_urls = []\n",
    "artist_names = []\n",
    "titles = []\n",
    "years = []\n",
    "\n",
    "def get_info(response_json, page_size):\n",
    "\n",
    "    for i in range(page_size):\n",
    "\n",
    "        painting = response_json['Paintings'][i]\n",
    "        image_urls.append(painting['image'])\n",
    "        artist_names.append(painting['artistName'])\n",
    "        titles.append(painting['title'])\n",
    "        years.append(painting['year'])\n",
    "        \n",
    "    return"
   ]
  },
  {
   "cell_type": "markdown",
   "metadata": {},
   "source": [
    "## Getting all the JSON responses\n",
    "\n",
    "Write a function that will page from 1 to page_size and get the respective JSON responses:\n",
    "- write a for function that goes from 0 to num_pages\n",
    "- your request url should be in the format of base_url plus the number of the page\n",
    "- send the request with requests.get(your_url)\n",
    "- create a JSON data with json.loads(your_request.text)\n",
    "- find the number of paintings in the JSON file\n",
    "- run the function get_info(your_json_data, num_of_paintings)"
   ]
  },
  {
   "cell_type": "code",
   "execution_count": 4,
   "metadata": {
    "collapsed": true
   },
   "outputs": [],
   "source": [
    "from IPython.display import clear_output\n",
    "\n",
    "def open_all_json():\n",
    "\n",
    "    for i in range(num_pages):\n",
    "        clear_output()\n",
    "        print(str(i + 1) + \"/\" + str(num_pages) + \" pages have been opened\")\n",
    "        request_url = base_url + style + query + str(i + 1)\n",
    "        r = requests.get(request_url)\n",
    "        json_data = json.loads(r.text)\n",
    "        page_size = len(json_data['Paintings'])\n",
    "        get_info(json_data, page_size)\n",
    "        \n",
    "        if i == (num_pages - 1):\n",
    "            print('Done')\n",
    "        \n",
    "    return"
   ]
  },
  {
   "cell_type": "code",
   "execution_count": 5,
   "metadata": {},
   "outputs": [
    {
     "name": "stdout",
     "output_type": "stream",
     "text": [
      "34/34 pages have been opened\n",
      "Done\n"
     ]
    }
   ],
   "source": [
    "open_all_json()"
   ]
  },
  {
   "cell_type": "markdown",
   "metadata": {},
   "source": [
    "Checking whether the number of URLs collected matches the number of paintings."
   ]
  },
  {
   "cell_type": "code",
   "execution_count": 6,
   "metadata": {},
   "outputs": [
    {
     "name": "stdout",
     "output_type": "stream",
     "text": [
      "The number of URLs match the number of paintings\n"
     ]
    }
   ],
   "source": [
    "def sanity_check():\n",
    "\n",
    "    if len(image_urls) == num_paintings:\n",
    "        print('The number of URLs match the number of paintings')\n",
    "    else:\n",
    "        print('Something went wrong')\n",
    "        \n",
    "sanity_check()"
   ]
  },
  {
   "cell_type": "markdown",
   "metadata": {},
   "source": [
    "## Downloading all the image files\n",
    "\n",
    "Write a function that downloads all the image files:\n",
    "- loop through the image_urls list\n",
    "- use urllib.request.urlretrieve(image_url, \"path + filename.jpg\")\n",
    "- hint: you can have a variable i = 0, to which you add 1 after every url: you could use this i in str(i).jpg to name your file\n",
    "- during the workshop, we won't have time to wait for all the files to be downloaded, so we will interrupt the function"
   ]
  },
  {
   "cell_type": "code",
   "execution_count": 7,
   "metadata": {
    "collapsed": true
   },
   "outputs": [],
   "source": [
    "# to make sure that non-ascii characters are removed from the url, we pass the url through urllib.parse.quote(your_url)\n",
    "\n",
    "import urllib.parse as up\n",
    "\n",
    "def download_images(image_urls, start_imgID, end_imgID):\n",
    "    \n",
    "    num = end_imgID - start_imgID\n",
    "    \n",
    "    for i in range(num):\n",
    "        url = image_urls[start_imgID]\n",
    "        first_part = url[:36]\n",
    "        second_part = up.quote(url[36:])\n",
    "        quoted_url = first_part + second_part\n",
    "        urllib.request.urlretrieve(quoted_url, './' + style + '/' + str(start_imgID) + \".jpg\")\n",
    "        start_imgID += 1\n",
    "        \n",
    "    print('Done')\n",
    "    \n",
    "    return\n",
    "\n",
    "def download_images_thread(image_url, imgID):\n",
    "    \n",
    "    url = image_url\n",
    "    first_part = url[:36]\n",
    "    second_part = up.quote(url[36:])\n",
    "    quoted_url = first_part + second_part\n",
    "    urllib.request.urlretrieve(quoted_url, './' + style + '/' + str(imgID) + \".jpg\")\n",
    "    \n",
    "    return "
   ]
  },
  {
   "cell_type": "code",
   "execution_count": 8,
   "metadata": {},
   "outputs": [
    {
     "name": "stderr",
     "output_type": "stream",
     "text": [
      "Exception in thread Thread-6:\n",
      "Traceback (most recent call last):\n",
      "  File \"/Users/noelkonagai/anaconda/lib/python3.6/urllib/request.py\", line 1318, in do_open\n",
      "    encode_chunked=req.has_header('Transfer-encoding'))\n",
      "  File \"/Users/noelkonagai/anaconda/lib/python3.6/http/client.py\", line 1239, in request\n",
      "    self._send_request(method, url, body, headers, encode_chunked)\n",
      "  File \"/Users/noelkonagai/anaconda/lib/python3.6/http/client.py\", line 1285, in _send_request\n",
      "    self.endheaders(body, encode_chunked=encode_chunked)\n",
      "  File \"/Users/noelkonagai/anaconda/lib/python3.6/http/client.py\", line 1234, in endheaders\n",
      "    self._send_output(message_body, encode_chunked=encode_chunked)\n",
      "  File \"/Users/noelkonagai/anaconda/lib/python3.6/http/client.py\", line 1026, in _send_output\n",
      "    self.send(msg)\n",
      "  File \"/Users/noelkonagai/anaconda/lib/python3.6/http/client.py\", line 964, in send\n",
      "    self.connect()\n",
      "  File \"/Users/noelkonagai/anaconda/lib/python3.6/http/client.py\", line 1392, in connect\n",
      "    super().connect()\n",
      "  File \"/Users/noelkonagai/anaconda/lib/python3.6/http/client.py\", line 936, in connect\n",
      "    (self.host,self.port), self.timeout, self.source_address)\n",
      "  File \"/Users/noelkonagai/anaconda/lib/python3.6/socket.py\", line 722, in create_connection\n",
      "    raise err\n",
      "  File \"/Users/noelkonagai/anaconda/lib/python3.6/socket.py\", line 713, in create_connection\n",
      "    sock.connect(sa)\n",
      "OSError: [Errno 65] No route to host\n",
      "\n",
      "During handling of the above exception, another exception occurred:\n",
      "\n",
      "Traceback (most recent call last):\n",
      "  File \"/Users/noelkonagai/anaconda/lib/python3.6/threading.py\", line 916, in _bootstrap_inner\n",
      "    self.run()\n",
      "  File \"/Users/noelkonagai/anaconda/lib/python3.6/threading.py\", line 864, in run\n",
      "    self._target(*self._args, **self._kwargs)\n",
      "  File \"<ipython-input-8-84eebb1f323c>\", line 12, in threader\n",
      "    download_images_thread(temp[0], temp[1])\n",
      "  File \"<ipython-input-7-5ba2487b63a3>\", line 27, in download_images_thread\n",
      "    urllib.request.urlretrieve(quoted_url, './' + style + '/' + str(imgID) + \".jpg\")\n",
      "  File \"/Users/noelkonagai/anaconda/lib/python3.6/urllib/request.py\", line 248, in urlretrieve\n",
      "    with contextlib.closing(urlopen(url, data)) as fp:\n",
      "  File \"/Users/noelkonagai/anaconda/lib/python3.6/urllib/request.py\", line 223, in urlopen\n",
      "    return opener.open(url, data, timeout)\n",
      "  File \"/Users/noelkonagai/anaconda/lib/python3.6/urllib/request.py\", line 526, in open\n",
      "    response = self._open(req, data)\n",
      "  File \"/Users/noelkonagai/anaconda/lib/python3.6/urllib/request.py\", line 544, in _open\n",
      "    '_open', req)\n",
      "  File \"/Users/noelkonagai/anaconda/lib/python3.6/urllib/request.py\", line 504, in _call_chain\n",
      "    result = func(*args)\n",
      "  File \"/Users/noelkonagai/anaconda/lib/python3.6/urllib/request.py\", line 1361, in https_open\n",
      "    context=self._context, check_hostname=self._check_hostname)\n",
      "  File \"/Users/noelkonagai/anaconda/lib/python3.6/urllib/request.py\", line 1320, in do_open\n",
      "    raise URLError(err)\n",
      "urllib.error.URLError: <urlopen error [Errno 65] No route to host>\n",
      "\n",
      "Exception in thread Thread-8:\n",
      "Traceback (most recent call last):\n",
      "  File \"/Users/noelkonagai/anaconda/lib/python3.6/urllib/request.py\", line 1318, in do_open\n",
      "    encode_chunked=req.has_header('Transfer-encoding'))\n",
      "  File \"/Users/noelkonagai/anaconda/lib/python3.6/http/client.py\", line 1239, in request\n",
      "    self._send_request(method, url, body, headers, encode_chunked)\n",
      "  File \"/Users/noelkonagai/anaconda/lib/python3.6/http/client.py\", line 1285, in _send_request\n",
      "    self.endheaders(body, encode_chunked=encode_chunked)\n",
      "  File \"/Users/noelkonagai/anaconda/lib/python3.6/http/client.py\", line 1234, in endheaders\n",
      "    self._send_output(message_body, encode_chunked=encode_chunked)\n",
      "  File \"/Users/noelkonagai/anaconda/lib/python3.6/http/client.py\", line 1026, in _send_output\n",
      "    self.send(msg)\n",
      "  File \"/Users/noelkonagai/anaconda/lib/python3.6/http/client.py\", line 964, in send\n",
      "    self.connect()\n",
      "  File \"/Users/noelkonagai/anaconda/lib/python3.6/http/client.py\", line 1392, in connect\n",
      "    super().connect()\n",
      "  File \"/Users/noelkonagai/anaconda/lib/python3.6/http/client.py\", line 936, in connect\n",
      "    (self.host,self.port), self.timeout, self.source_address)\n",
      "  File \"/Users/noelkonagai/anaconda/lib/python3.6/socket.py\", line 722, in create_connection\n",
      "    raise err\n",
      "  File \"/Users/noelkonagai/anaconda/lib/python3.6/socket.py\", line 713, in create_connection\n",
      "    sock.connect(sa)\n",
      "OSError: [Errno 65] No route to host\n",
      "\n",
      "During handling of the above exception, another exception occurred:\n",
      "\n",
      "Traceback (most recent call last):\n",
      "  File \"/Users/noelkonagai/anaconda/lib/python3.6/threading.py\", line 916, in _bootstrap_inner\n",
      "    self.run()\n",
      "  File \"/Users/noelkonagai/anaconda/lib/python3.6/threading.py\", line 864, in run\n",
      "    self._target(*self._args, **self._kwargs)\n",
      "  File \"<ipython-input-8-84eebb1f323c>\", line 12, in threader\n",
      "    download_images_thread(temp[0], temp[1])\n",
      "  File \"<ipython-input-7-5ba2487b63a3>\", line 27, in download_images_thread\n",
      "    urllib.request.urlretrieve(quoted_url, './' + style + '/' + str(imgID) + \".jpg\")\n",
      "  File \"/Users/noelkonagai/anaconda/lib/python3.6/urllib/request.py\", line 248, in urlretrieve\n",
      "    with contextlib.closing(urlopen(url, data)) as fp:\n",
      "  File \"/Users/noelkonagai/anaconda/lib/python3.6/urllib/request.py\", line 223, in urlopen\n",
      "    return opener.open(url, data, timeout)\n",
      "  File \"/Users/noelkonagai/anaconda/lib/python3.6/urllib/request.py\", line 526, in open\n",
      "    response = self._open(req, data)\n",
      "  File \"/Users/noelkonagai/anaconda/lib/python3.6/urllib/request.py\", line 544, in _open\n",
      "    '_open', req)\n",
      "  File \"/Users/noelkonagai/anaconda/lib/python3.6/urllib/request.py\", line 504, in _call_chain\n",
      "    result = func(*args)\n",
      "  File \"/Users/noelkonagai/anaconda/lib/python3.6/urllib/request.py\", line 1361, in https_open\n",
      "    context=self._context, check_hostname=self._check_hostname)\n",
      "  File \"/Users/noelkonagai/anaconda/lib/python3.6/urllib/request.py\", line 1320, in do_open\n",
      "    raise URLError(err)\n",
      "urllib.error.URLError: <urlopen error [Errno 65] No route to host>\n",
      "\n",
      "Exception in thread Thread-5:\n",
      "Traceback (most recent call last):\n",
      "  File \"/Users/noelkonagai/anaconda/lib/python3.6/urllib/request.py\", line 1318, in do_open\n",
      "    encode_chunked=req.has_header('Transfer-encoding'))\n",
      "  File \"/Users/noelkonagai/anaconda/lib/python3.6/http/client.py\", line 1239, in request\n",
      "    self._send_request(method, url, body, headers, encode_chunked)\n",
      "  File \"/Users/noelkonagai/anaconda/lib/python3.6/http/client.py\", line 1285, in _send_request\n",
      "    self.endheaders(body, encode_chunked=encode_chunked)\n",
      "  File \"/Users/noelkonagai/anaconda/lib/python3.6/http/client.py\", line 1234, in endheaders\n",
      "    self._send_output(message_body, encode_chunked=encode_chunked)\n",
      "  File \"/Users/noelkonagai/anaconda/lib/python3.6/http/client.py\", line 1026, in _send_output\n",
      "    self.send(msg)\n",
      "  File \"/Users/noelkonagai/anaconda/lib/python3.6/http/client.py\", line 964, in send\n",
      "    self.connect()\n",
      "  File \"/Users/noelkonagai/anaconda/lib/python3.6/http/client.py\", line 1392, in connect\n",
      "    super().connect()\n",
      "  File \"/Users/noelkonagai/anaconda/lib/python3.6/http/client.py\", line 936, in connect\n",
      "    (self.host,self.port), self.timeout, self.source_address)\n",
      "  File \"/Users/noelkonagai/anaconda/lib/python3.6/socket.py\", line 722, in create_connection\n",
      "    raise err\n",
      "  File \"/Users/noelkonagai/anaconda/lib/python3.6/socket.py\", line 713, in create_connection\n",
      "    sock.connect(sa)\n",
      "OSError: [Errno 65] No route to host\n",
      "\n",
      "During handling of the above exception, another exception occurred:\n",
      "\n",
      "Traceback (most recent call last):\n",
      "  File \"/Users/noelkonagai/anaconda/lib/python3.6/threading.py\", line 916, in _bootstrap_inner\n",
      "    self.run()\n",
      "  File \"/Users/noelkonagai/anaconda/lib/python3.6/threading.py\", line 864, in run\n",
      "    self._target(*self._args, **self._kwargs)\n",
      "  File \"<ipython-input-8-84eebb1f323c>\", line 12, in threader\n",
      "    download_images_thread(temp[0], temp[1])\n",
      "  File \"<ipython-input-7-5ba2487b63a3>\", line 27, in download_images_thread\n",
      "    urllib.request.urlretrieve(quoted_url, './' + style + '/' + str(imgID) + \".jpg\")\n",
      "  File \"/Users/noelkonagai/anaconda/lib/python3.6/urllib/request.py\", line 248, in urlretrieve\n",
      "    with contextlib.closing(urlopen(url, data)) as fp:\n",
      "  File \"/Users/noelkonagai/anaconda/lib/python3.6/urllib/request.py\", line 223, in urlopen\n",
      "    return opener.open(url, data, timeout)\n",
      "  File \"/Users/noelkonagai/anaconda/lib/python3.6/urllib/request.py\", line 526, in open\n",
      "    response = self._open(req, data)\n",
      "  File \"/Users/noelkonagai/anaconda/lib/python3.6/urllib/request.py\", line 544, in _open\n",
      "    '_open', req)\n",
      "  File \"/Users/noelkonagai/anaconda/lib/python3.6/urllib/request.py\", line 504, in _call_chain\n",
      "    result = func(*args)\n",
      "  File \"/Users/noelkonagai/anaconda/lib/python3.6/urllib/request.py\", line 1361, in https_open\n",
      "    context=self._context, check_hostname=self._check_hostname)\n",
      "  File \"/Users/noelkonagai/anaconda/lib/python3.6/urllib/request.py\", line 1320, in do_open\n",
      "    raise URLError(err)\n",
      "urllib.error.URLError: <urlopen error [Errno 65] No route to host>\n",
      "\n"
     ]
    },
    {
     "name": "stderr",
     "output_type": "stream",
     "text": [
      "Exception in thread Thread-10:\n",
      "Traceback (most recent call last):\n",
      "  File \"/Users/noelkonagai/anaconda/lib/python3.6/urllib/request.py\", line 1318, in do_open\n",
      "    encode_chunked=req.has_header('Transfer-encoding'))\n",
      "  File \"/Users/noelkonagai/anaconda/lib/python3.6/http/client.py\", line 1239, in request\n",
      "    self._send_request(method, url, body, headers, encode_chunked)\n",
      "  File \"/Users/noelkonagai/anaconda/lib/python3.6/http/client.py\", line 1285, in _send_request\n",
      "    self.endheaders(body, encode_chunked=encode_chunked)\n",
      "  File \"/Users/noelkonagai/anaconda/lib/python3.6/http/client.py\", line 1234, in endheaders\n",
      "    self._send_output(message_body, encode_chunked=encode_chunked)\n",
      "  File \"/Users/noelkonagai/anaconda/lib/python3.6/http/client.py\", line 1026, in _send_output\n",
      "    self.send(msg)\n",
      "  File \"/Users/noelkonagai/anaconda/lib/python3.6/http/client.py\", line 964, in send\n",
      "    self.connect()\n",
      "  File \"/Users/noelkonagai/anaconda/lib/python3.6/http/client.py\", line 1392, in connect\n",
      "    super().connect()\n",
      "  File \"/Users/noelkonagai/anaconda/lib/python3.6/http/client.py\", line 936, in connect\n",
      "    (self.host,self.port), self.timeout, self.source_address)\n",
      "  File \"/Users/noelkonagai/anaconda/lib/python3.6/socket.py\", line 722, in create_connection\n",
      "    raise err\n",
      "  File \"/Users/noelkonagai/anaconda/lib/python3.6/socket.py\", line 713, in create_connection\n",
      "    sock.connect(sa)\n",
      "OSError: [Errno 65] No route to host\n",
      "\n",
      "During handling of the above exception, another exception occurred:\n",
      "\n",
      "Traceback (most recent call last):\n",
      "  File \"/Users/noelkonagai/anaconda/lib/python3.6/threading.py\", line 916, in _bootstrap_inner\n",
      "    self.run()\n",
      "  File \"/Users/noelkonagai/anaconda/lib/python3.6/threading.py\", line 864, in run\n",
      "    self._target(*self._args, **self._kwargs)\n",
      "  File \"<ipython-input-8-84eebb1f323c>\", line 12, in threader\n",
      "    download_images_thread(temp[0], temp[1])\n",
      "  File \"<ipython-input-7-5ba2487b63a3>\", line 27, in download_images_thread\n",
      "    urllib.request.urlretrieve(quoted_url, './' + style + '/' + str(imgID) + \".jpg\")\n",
      "  File \"/Users/noelkonagai/anaconda/lib/python3.6/urllib/request.py\", line 248, in urlretrieve\n",
      "    with contextlib.closing(urlopen(url, data)) as fp:\n",
      "  File \"/Users/noelkonagai/anaconda/lib/python3.6/urllib/request.py\", line 223, in urlopen\n",
      "    return opener.open(url, data, timeout)\n",
      "  File \"/Users/noelkonagai/anaconda/lib/python3.6/urllib/request.py\", line 526, in open\n",
      "    response = self._open(req, data)\n",
      "  File \"/Users/noelkonagai/anaconda/lib/python3.6/urllib/request.py\", line 544, in _open\n",
      "    '_open', req)\n",
      "  File \"/Users/noelkonagai/anaconda/lib/python3.6/urllib/request.py\", line 504, in _call_chain\n",
      "    result = func(*args)\n",
      "  File \"/Users/noelkonagai/anaconda/lib/python3.6/urllib/request.py\", line 1361, in https_open\n",
      "    context=self._context, check_hostname=self._check_hostname)\n",
      "  File \"/Users/noelkonagai/anaconda/lib/python3.6/urllib/request.py\", line 1320, in do_open\n",
      "    raise URLError(err)\n",
      "urllib.error.URLError: <urlopen error [Errno 65] No route to host>\n",
      "\n"
     ]
    },
    {
     "ename": "KeyboardInterrupt",
     "evalue": "",
     "output_type": "error",
     "traceback": [
      "\u001b[0;31m---------------------------------------------------------------------------\u001b[0m",
      "\u001b[0;31mKeyboardInterrupt\u001b[0m                         Traceback (most recent call last)",
      "\u001b[0;32m<ipython-input-8-84eebb1f323c>\u001b[0m in \u001b[0;36m<module>\u001b[0;34m()\u001b[0m\n\u001b[1;32m     27\u001b[0m     \u001b[0mq\u001b[0m\u001b[0;34m.\u001b[0m\u001b[0mput\u001b[0m\u001b[0;34m(\u001b[0m\u001b[0mtemp\u001b[0m\u001b[0;34m)\u001b[0m\u001b[0;34m\u001b[0m\u001b[0m\n\u001b[1;32m     28\u001b[0m \u001b[0;34m\u001b[0m\u001b[0m\n\u001b[0;32m---> 29\u001b[0;31m \u001b[0mq\u001b[0m\u001b[0;34m.\u001b[0m\u001b[0mjoin\u001b[0m\u001b[0;34m(\u001b[0m\u001b[0;34m)\u001b[0m\u001b[0;34m\u001b[0m\u001b[0m\n\u001b[0m\u001b[1;32m     30\u001b[0m \u001b[0;34m\u001b[0m\u001b[0m\n\u001b[1;32m     31\u001b[0m \u001b[0mprint\u001b[0m\u001b[0;34m(\u001b[0m\u001b[0mtime\u001b[0m\u001b[0;34m.\u001b[0m\u001b[0mtime\u001b[0m\u001b[0;34m(\u001b[0m\u001b[0;34m)\u001b[0m \u001b[0;34m-\u001b[0m \u001b[0mstart\u001b[0m\u001b[0;34m)\u001b[0m\u001b[0;34m\u001b[0m\u001b[0m\n",
      "\u001b[0;32m/Users/noelkonagai/anaconda/lib/python3.6/queue.py\u001b[0m in \u001b[0;36mjoin\u001b[0;34m(self)\u001b[0m\n\u001b[1;32m     81\u001b[0m         \u001b[0;32mwith\u001b[0m \u001b[0mself\u001b[0m\u001b[0;34m.\u001b[0m\u001b[0mall_tasks_done\u001b[0m\u001b[0;34m:\u001b[0m\u001b[0;34m\u001b[0m\u001b[0m\n\u001b[1;32m     82\u001b[0m             \u001b[0;32mwhile\u001b[0m \u001b[0mself\u001b[0m\u001b[0;34m.\u001b[0m\u001b[0munfinished_tasks\u001b[0m\u001b[0;34m:\u001b[0m\u001b[0;34m\u001b[0m\u001b[0m\n\u001b[0;32m---> 83\u001b[0;31m                 \u001b[0mself\u001b[0m\u001b[0;34m.\u001b[0m\u001b[0mall_tasks_done\u001b[0m\u001b[0;34m.\u001b[0m\u001b[0mwait\u001b[0m\u001b[0;34m(\u001b[0m\u001b[0;34m)\u001b[0m\u001b[0;34m\u001b[0m\u001b[0m\n\u001b[0m\u001b[1;32m     84\u001b[0m \u001b[0;34m\u001b[0m\u001b[0m\n\u001b[1;32m     85\u001b[0m     \u001b[0;32mdef\u001b[0m \u001b[0mqsize\u001b[0m\u001b[0;34m(\u001b[0m\u001b[0mself\u001b[0m\u001b[0;34m)\u001b[0m\u001b[0;34m:\u001b[0m\u001b[0;34m\u001b[0m\u001b[0m\n",
      "\u001b[0;32m/Users/noelkonagai/anaconda/lib/python3.6/threading.py\u001b[0m in \u001b[0;36mwait\u001b[0;34m(self, timeout)\u001b[0m\n\u001b[1;32m    293\u001b[0m         \u001b[0;32mtry\u001b[0m\u001b[0;34m:\u001b[0m    \u001b[0;31m# restore state no matter what (e.g., KeyboardInterrupt)\u001b[0m\u001b[0;34m\u001b[0m\u001b[0m\n\u001b[1;32m    294\u001b[0m             \u001b[0;32mif\u001b[0m \u001b[0mtimeout\u001b[0m \u001b[0;32mis\u001b[0m \u001b[0;32mNone\u001b[0m\u001b[0;34m:\u001b[0m\u001b[0;34m\u001b[0m\u001b[0m\n\u001b[0;32m--> 295\u001b[0;31m                 \u001b[0mwaiter\u001b[0m\u001b[0;34m.\u001b[0m\u001b[0macquire\u001b[0m\u001b[0;34m(\u001b[0m\u001b[0;34m)\u001b[0m\u001b[0;34m\u001b[0m\u001b[0m\n\u001b[0m\u001b[1;32m    296\u001b[0m                 \u001b[0mgotit\u001b[0m \u001b[0;34m=\u001b[0m \u001b[0;32mTrue\u001b[0m\u001b[0;34m\u001b[0m\u001b[0m\n\u001b[1;32m    297\u001b[0m             \u001b[0;32melse\u001b[0m\u001b[0;34m:\u001b[0m\u001b[0;34m\u001b[0m\u001b[0m\n",
      "\u001b[0;31mKeyboardInterrupt\u001b[0m: "
     ]
    }
   ],
   "source": [
    "import threading\n",
    "from queue import Queue\n",
    "import time\n",
    "\n",
    "print_lock = threading.Lock()\n",
    "q = Queue()\n",
    "\n",
    "def threader():\n",
    "    while True:\n",
    "        temp = q.get()\n",
    "        download_images_thread(temp[0], temp[1])\n",
    "        q.task_done()\n",
    "\n",
    "for i in range(10):\n",
    "    t = threading.Thread(target = threader)\n",
    "    \n",
    "    t.daemon = True\n",
    "    t.start()\n",
    "    \n",
    "start = time.time()\n",
    "\n",
    "for i in range(len(image_urls)):\n",
    "    temp = []\n",
    "    temp.append(image_urls[i])\n",
    "    temp.append(i)\n",
    "    q.put(temp)\n",
    "    \n",
    "q.join()\n",
    "\n",
    "print(time.time() - start)"
   ]
  },
  {
   "cell_type": "code",
   "execution_count": null,
   "metadata": {
    "collapsed": true
   },
   "outputs": [],
   "source": [
    "download_images(image_urls, 265, len(image_urls))"
   ]
  },
  {
   "cell_type": "markdown",
   "metadata": {},
   "source": [
    "## Creating a Pandas dataframe with information on the paintings\n",
    "\n",
    "Pandas is a library typically used for data analytics, but for our puroses it is a really handy tool with which we can easily create dataframes (think of them as spreadsheets). Below is the code to create a CSV file out of all the information that we collected."
   ]
  },
  {
   "cell_type": "code",
   "execution_count": 10,
   "metadata": {
    "collapsed": true
   },
   "outputs": [],
   "source": [
    "def create_dataframe(artist_names, titles, years, image_urls):\n",
    "    \n",
    "    # first we create series, think of them as columns in the spreadsheet\n",
    "    \n",
    "    s1 = pd.Series(artist_names)\n",
    "    s2 = pd.Series(titles)\n",
    "    s3 = pd.Series(years)\n",
    "    s4 = pd.Series(image_urls)\n",
    "    \n",
    "    d = {'artist': s1, 'title': s2, 'year': s3, 'url': s4}\n",
    "    \n",
    "    df = pd.DataFrame(data=d)\n",
    "    \n",
    "    return df\n",
    "\n",
    "df = create_dataframe(artist_names, titles, years, image_urls)\n",
    "\n",
    "# save it into a csv file\n",
    "df.to_csv(style + '.csv')  "
   ]
  },
  {
   "cell_type": "code",
   "execution_count": null,
   "metadata": {
    "collapsed": true
   },
   "outputs": [],
   "source": []
  }
 ],
 "metadata": {
  "kernelspec": {
   "display_name": "Python 3",
   "language": "python",
   "name": "python3"
  },
  "language_info": {
   "codemirror_mode": {
    "name": "ipython",
    "version": 3
   },
   "file_extension": ".py",
   "mimetype": "text/x-python",
   "name": "python",
   "nbconvert_exporter": "python",
   "pygments_lexer": "ipython3",
   "version": "3.6.1"
  }
 },
 "nbformat": 4,
 "nbformat_minor": 2
}
